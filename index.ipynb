{
 "cells": [
  {
   "cell_type": "code",
   "execution_count": 1,
   "metadata": {
    "collapsed": false,
    "slideshow": {
     "slide_type": "skip"
    }
   },
   "outputs": [
    {
     "name": "stdout",
     "output_type": "stream",
     "text": [
      "Writing output/custom.css\n"
     ]
    }
   ],
   "source": [
    "%%file output/custom.css\n",
    "body {\n",
    "    font-size: 160%;\n",
    "    font-family: Lato, Ariel, sans-serif !important;\n",
    "}\n",
    "\n",
    "div.slides {\n",
    "    margin-top: -5%;\n",
    "}\n",
    "\n",
    ".left {\n",
    "    width: 49%;\n",
    "    float: left;\n",
    "}\n",
    "\n",
    ".right {\n",
    "    width: 49%;\n",
    "    float: right;\n",
    "}\n",
    "\n",
    ".centre {\n",
    "    text-align: center;\n",
    "}\n",
    "\n",
    "h1 {\n",
    "    text-align: center;\n",
    "}\n",
    "\n",
    "h2 {\n",
    "    text-align: center;\n",
    "}\n",
    "\n",
    "div.prompt {\n",
    "    display: none;\n",
    "}\n",
    "\n",
    "div.highlight {\n",
    "    font-size: 85%; /* This Seems to give an approximate 80char line at 1024 */\n",
    "}\n",
    "\n",
    "div.output_html {\n",
    "    font-size: 85%;\n",
    "}\n",
    "\n",
    "div.output_subarea {\n",
    "    max-width: 100% !important;\n",
    "}\n",
    "\n",
    "div.output_png {\n",
    "    text-align: center;\n",
    "}\n",
    "\n",
    "li {\n",
    "    padding-top: 1em !important;\n",
    "}\n",
    "\n",
    "ul.logos {\n",
    "    margin: 0px;\n",
    "    padding: 0px;\n",
    "    width: 100%;\n",
    "}\n",
    "\n",
    "ul.logos li {\n",
    "    list-style: none;\n",
    "    height:150px;\n",
    "\n",
    "}\n",
    "\n",
    ".output_stderr {\n",
    "    display: none;\n",
    "}\n",
    "\n",
    "div.output_area .rendered_html img, div.output_area .rendered_html table {\n",
    "    margin-left: auto;\n",
    "    margin-right: auto;\n",
    "}\n",
    "\n",
    ".data-table {\n",
    "    border-collapse: collapse;\n",
    "}\n",
    "\n",
    ".border-bottom {\n",
    "    border-bottom: 1px solid #000;\n",
    "}\n",
    "\n",
    ".align-center {\n",
    "    text-align: center;\n",
    "}"
   ]
  },
  {
   "cell_type": "markdown",
   "metadata": {
    "slideshow": {
     "slide_type": "slide"
    }
   },
   "source": [
    "# This is a Slide!"
   ]
  },
  {
   "cell_type": "markdown",
   "metadata": {},
   "source": [
    "Some stuff in the slide."
   ]
  },
  {
   "cell_type": "markdown",
   "metadata": {
    "slideshow": {
     "slide_type": "slide"
    }
   },
   "source": [
    "# Another slide"
   ]
  }
 ],
 "metadata": {
  "celltoolbar": "Slideshow",
  "cite2c": {
   "citations": {
    "1226750/2RIPHSJK": {
     "DOI": "10.1080/03091928508208781",
     "URL": "http://www.tandfonline.com/doi/abs/10.1080/03091928508208781",
     "accessed": {
      "day": "15",
      "month": "8",
      "year": "2013"
     },
     "author": [
      {
       "family": "Leroy",
       "given": "Bernard"
      }
     ],
     "container-title": "Geophysical & Astrophysical Fluid Dynamics",
     "id": "1226750/2RIPHSJK",
     "issue": "2",
     "issued": {
      "month": "5",
      "year": "1985"
     },
     "note": "bibtex: leroy1985",
     "page": "123-133",
     "page-first": "123",
     "title": "On the derivation of the energy flux of linear magnetohydrodynamic waves",
     "type": "article-journal",
     "volume": "32"
    },
    "1226750/45U23R6J": {
     "DOI": "10.1086/190731",
     "URL": "http://ucp.uchicago.edu/cgi-bin/resolve?id=doi:10.1086/190731",
     "accessed": {
      "day": "8",
      "month": "8",
      "year": "2013"
     },
     "author": [
      {
       "family": "Vernazza",
       "given": "J. E."
      },
      {
       "family": "Avrett",
       "given": "E. H."
      },
      {
       "family": "Loeser",
       "given": "R."
      }
     ],
     "container-title": "The Astrophysical Journal Supplement Series",
     "id": "1226750/45U23R6J",
     "issued": {
      "month": "4",
      "year": "1981"
     },
     "note": "bibtex: vernazza1981",
     "page": "635",
     "page-first": "635",
     "title": "Structure of the solar chromosphere. III - Models of the EUV brightness components of the quiet-sun",
     "type": "article-journal",
     "volume": "45"
    },
    "1226750/4CKVZT29": {
     "DOI": "10.1093/mnras/stt1328",
     "URL": "http://mnras.oxfordjournals.org/cgi/doi/10.1093/mnras/stt1328",
     "accessed": {
      "day": "8",
      "month": "4",
      "year": "2014"
     },
     "author": [
      {
       "family": "Gent",
       "given": "F. A."
      },
      {
       "family": "Fedun",
       "given": "V."
      },
      {
       "family": "Mumford",
       "given": "S. J."
      },
      {
       "family": "Erdelyi",
       "given": "R."
      }
     ],
     "container-title": "Monthly Notices of the Royal Astronomical Society",
     "id": "1226750/4CKVZT29",
     "issue": "1",
     "issued": {
      "day": "11",
      "month": "10",
      "year": "2013"
     },
     "language": "en",
     "note": "bibtex: gent2013",
     "page": "689-697",
     "page-first": "689",
     "title": "Magnetohydrostatic equilibrium - I. Three-dimensional open magnetic flux tube in the stratified solar atmosphere",
     "type": "article-journal",
     "volume": "435"
    },
    "1226750/4M45A9IB": {
     "author": [
      {
       "family": "Tóth",
       "given": "G."
      }
     ],
     "container-title": "Astrophysical Letters and Communications",
     "id": "1226750/4M45A9IB",
     "issued": {
      "year": "1996"
     },
     "page": "245",
     "page-first": "245",
     "title": "A General Code for Modeling Mhd Flows on Parallel Computers Versatile Advection Code",
     "type": "article-journal",
     "volume": "34"
    },
    "1226750/77CNNZUU": {
     "DOI": "10.1038/nature10235",
     "URL": "http://www.nature.com/doifinder/10.1038/nature10235",
     "accessed": {
      "day": "7",
      "month": "4",
      "year": "2014"
     },
     "author": [
      {
       "family": "McIntosh",
       "given": "Scott W."
      },
      {
       "family": "De Pontieu",
       "given": "Bart"
      },
      {
       "family": "Carlsson",
       "given": "Mats"
      },
      {
       "family": "Hansteen",
       "given": "Viggo"
      },
      {
       "family": "Boerner",
       "given": "Paul"
      },
      {
       "family": "Goossens",
       "given": "Marcel"
      }
     ],
     "container-title": "Nature",
     "id": "1226750/77CNNZUU",
     "issue": "7357",
     "issued": {
      "day": "27",
      "month": "7",
      "year": "2011"
     },
     "note": "bibtex: mcintosh2011",
     "page": "477-480",
     "page-first": "477",
     "title": "Alfvénic waves with sufficient energy to power the quiet solar corona and fast solar wind",
     "type": "article-journal",
     "volume": "475"
    },
    "1226750/7GE8BRRP": {
     "DOI": "10.1088/0004-637X/789/1/42",
     "URL": "http://stacks.iop.org/0004-637X/789/i=1/a=42?key=crossref.07d9545bc0c0a1c8db342e97ccd1b289",
     "accessed": {
      "day": "18",
      "month": "7",
      "year": "2014"
     },
     "author": [
      {
       "family": "Gent",
       "given": "F. A."
      },
      {
       "family": "Fedun",
       "given": "V."
      },
      {
       "family": "Erdélyi",
       "given": "R."
      }
     ],
     "container-title": "The Astrophysical Journal",
     "id": "1226750/7GE8BRRP",
     "issue": "1",
     "issued": {
      "day": "1",
      "month": "7",
      "year": "2014"
     },
     "note": "bibtex: gent2014",
     "page": "42",
     "page-first": "42",
     "title": "Magnetohydrostatic Equilibrium. II. Three-Dimensional Multiple Open Magnetic Flux Tubes in the Stratified Solar Atmosphere",
     "type": "article-journal",
     "volume": "789"
    },
    "1226750/7HIRR5FU": {
     "DOI": "10.1007/BF00146682",
     "URL": "http://link.springer.com/10.1007/BF00146682",
     "accessed": {
      "day": "6",
      "month": "6",
      "year": "2014"
     },
     "author": [
      {
       "family": "Low",
       "given": "B. C."
      }
     ],
     "container-title": "Solar Physics",
     "id": "1226750/7HIRR5FU",
     "issue": "1",
     "issued": {
      "month": "8",
      "year": "1980"
     },
     "language": "en",
     "note": "bibtex: low1980",
     "page": "57-77",
     "page-first": "57",
     "shortTitle": "Exact static equilibrium of vertically oriented magnetic flux tubes",
     "title": "Exact static equilibrium of vertically oriented magnetic flux tubes: I. The Schluter-Temesvary sunspot",
     "title-short": "Exact static equilibrium of vertically oriented magnetic flux tubes",
     "type": "article-journal",
     "volume": "67"
    },
    "1226750/9AMFKPUF": {
     "DOI": "10.1051/0004-6361:200809800",
     "URL": "http://www.aanda.org/10.1051/0004-6361:200809800",
     "accessed": {
      "day": "7",
      "month": "8",
      "year": "2013"
     },
     "author": [
      {
       "family": "Shelyag",
       "given": "S."
      },
      {
       "family": "Fedun",
       "given": "V."
      },
      {
       "family": "Erdélyi",
       "given": "R."
      }
     ],
     "container-title": "Astronomy and Astrophysics",
     "id": "1226750/9AMFKPUF",
     "issue": "2",
     "issued": {
      "month": "8",
      "year": "2008"
     },
     "note": "bibtex: shelyag2008",
     "page": "655-662",
     "page-first": "655",
     "title": "Magnetohydrodynamic code for gravitationally-stratified media",
     "type": "article-journal",
     "volume": "486"
    },
    "1226750/G5FC53PC": {
     "DOI": "10.1086/150731",
     "URL": "http://adsabs.harvard.edu/doi/10.1086/150731",
     "accessed": {
      "day": "3",
      "month": "12",
      "year": "2015"
     },
     "author": [
      {
       "family": "Ulrich",
       "given": "Roger K."
      }
     ],
     "container-title": "The Astrophysical Journal",
     "id": "1226750/G5FC53PC",
     "issued": {
      "month": "12",
      "year": "1970"
     },
     "language": "en",
     "page": "993",
     "page-first": "993",
     "title": "The Five-Minute Oscillations on the Solar Surface",
     "type": "article-journal",
     "volume": "162"
    },
    "1226750/GAAKCPXV": {
     "DOI": "10.1093/mnras/stv365",
     "URL": "http://mnras.oxfordjournals.org/cgi/doi/10.1093/mnras/stv365",
     "accessed": {
      "day": "11",
      "month": "6",
      "year": "2015"
     },
     "author": [
      {
       "family": "Mumford",
       "given": "S. J."
      },
      {
       "family": "Erdélyi",
       "given": "R."
      }
     ],
     "container-title": "Monthly Notices of the Royal Astronomical Society",
     "id": "1226750/GAAKCPXV",
     "issue": "2",
     "issued": {
      "day": "25",
      "month": "3",
      "year": "2015"
     },
     "language": "en",
     "note": "bibtex: mumford2015a",
     "page": "1679-1685",
     "page-first": "1679",
     "title": "Photospheric logarithmic velocity spirals as MHD wave generation mechanisms",
     "type": "article-journal",
     "volume": "449"
    },
    "1226750/NUWUHI2F": {
     "DOI": "10.1038/nature11202",
     "URL": "http://www.nature.com/doifinder/10.1038/nature11202",
     "accessed": {
      "day": "7",
      "month": "8",
      "year": "2013"
     },
     "author": [
      {
       "family": "Wedemeyer-Böhm",
       "given": "Sven"
      },
      {
       "family": "Scullion",
       "given": "Eamon"
      },
      {
       "family": "Steiner",
       "given": "Oskar"
      },
      {
       "family": "van der Voort",
       "given": "Luc Rouppe"
      },
      {
       "family": "de la Cruz Rodriguez",
       "given": "Jaime"
      },
      {
       "family": "Fedun",
       "given": "Viktor"
      },
      {
       "family": "Erdélyi",
       "given": "Robert"
      }
     ],
     "container-title": "Nature",
     "id": "1226750/NUWUHI2F",
     "issue": "7404",
     "issued": {
      "day": "27",
      "month": "6",
      "year": "2012"
     },
     "note": "bibtex: wedemeyer-bohm2012",
     "page": "505-508",
     "page-first": "505",
     "title": "Magnetic tornadoes as energy channels into the solar corona",
     "type": "article-journal",
     "volume": "486"
    },
    "1226750/PUT65ERR": {
     "DOI": "10.1086/147285",
     "URL": "http://adsabs.harvard.edu/doi/10.1086/147285",
     "accessed": {
      "day": "23",
      "month": "9",
      "year": "2015"
     },
     "author": [
      {
       "family": "Leighton",
       "given": "Robert B."
      },
      {
       "family": "Noyes",
       "given": "Robert W."
      },
      {
       "family": "Simon",
       "given": "George W."
      }
     ],
     "container-title": "The Astrophysical Journal",
     "id": "1226750/PUT65ERR",
     "issued": {
      "month": "3",
      "year": "1962"
     },
     "language": "en",
     "note": "bibtex: leighton1962",
     "page": "474",
     "page-first": "474",
     "title": "Velocity Fields in the Solar Atmosphere. I. Preliminary Report.",
     "type": "article-journal",
     "volume": "135"
    },
    "1226750/PZFNVA4C": {
     "DOI": "10.1088/2041-8205/723/2/L139",
     "URL": "http://stacks.iop.org/2041-8205/723/i=2/a=L139?key=crossref.7953489f4cb42ada959b9717a097f5e1",
     "accessed": {
      "day": "7",
      "month": "8",
      "year": "2013"
     },
     "author": [
      {
       "family": "Bonet",
       "given": "J. A."
      },
      {
       "family": "Márquez",
       "given": "I."
      },
      {
       "family": "Almeida",
       "given": "J. Sánchez"
      },
      {
       "family": "Palacios",
       "given": "J."
      },
      {
       "family": "Pillet",
       "given": "V. Martínez"
      },
      {
       "family": "Solanki",
       "given": "S. K."
      },
      {
       "family": "del Toro Iniesta",
       "given": "J. C."
      },
      {
       "family": "Domingo",
       "given": "V."
      },
      {
       "family": "Berkefeld",
       "given": "T."
      },
      {
       "family": "Schmidt",
       "given": "W."
      },
      {
       "family": "Gandorfer",
       "given": "A."
      },
      {
       "family": "Barthol",
       "given": "P."
      },
      {
       "family": "Knölker",
       "given": "M."
      }
     ],
     "container-title": "The Astrophysical Journal",
     "id": "1226750/PZFNVA4C",
     "issue": "2",
     "issued": {
      "day": "10",
      "month": "11",
      "year": "2010"
     },
     "note": "bibtex: bonet2010",
     "page": "L139-L143",
     "page-first": "L139",
     "title": "Sunrise/Imax Observations of Convectively Driven Vortex Flows in the Sun",
     "type": "article-journal",
     "volume": "723"
    },
    "1226750/RZ7PH3U7": {
     "URL": "http://arxiv.org/abs/1505.02563",
     "abstract": "This paper presents SunPy (version 0.5), a community-developed Python package for solar physics. Python, a free, cross-platform, general-purpose, high-level programming language, has seen widespread adoption among the scientific community, resulting in the availability of a large number of software packages, from numerical computation (NumPy, SciPy) and machine learning (scikit-learn) to visualisation and plotting (matplotlib). SunPy is a data-analysis environment specialising in providing the software necessary to analyse solar and heliospheric data in Python. SunPy is open-source software (BSD licence) and has an open and transparent development workflow that anyone can contribute to. SunPy provides access to solar data through integration with the Virtual Solar Observatory (VSO), the Heliophysics Event Knowledgebase (HEK), and the HELiophysics Integrated Observatory (HELIO) webservices. It currently supports image data from major solar missions (e.g., SDO, SOHO, STEREO, and IRIS), time-series data from missions such as GOES, SDO/EVE, and PROBA2/LYRA, and radio spectra from e-Callisto and STEREO/SWAVES. We describe SunPy's functionality, provide examples of solar data analysis in SunPy, and show how Python-based solar data-analysis can leverage the many existing tools already available in Python. We discuss the future goals of the project and encourage interested users to become involved in the planning and development of SunPy.",
     "accessed": {
      "day": "12",
      "month": "5",
      "year": "2015"
     },
     "author": [
      {
       "family": "The SunPy Community",
       "given": ""
      },
      {
       "family": "Mumford",
       "given": "Stuart J."
      },
      {
       "family": "Christe",
       "given": "Steven"
      },
      {
       "family": "Pérez-Suárez",
       "given": "David"
      },
      {
       "family": "Ireland",
       "given": "Jack"
      },
      {
       "family": "Shih",
       "given": "Albert Y."
      },
      {
       "family": "Inglis",
       "given": "Andrew R."
      },
      {
       "family": "Liedtke",
       "given": "Simon"
      },
      {
       "family": "Hewett",
       "given": "Russell J."
      },
      {
       "family": "Mayer",
       "given": "Florian"
      },
      {
       "family": "Hughitt",
       "given": "Keith"
      },
      {
       "family": "Freij",
       "given": "Nabil"
      },
      {
       "family": "Meszaros",
       "given": "Tomas"
      },
      {
       "family": "Bennett",
       "given": "Samuel M."
      },
      {
       "family": "Malocha",
       "given": "Michael"
      },
      {
       "family": "Evans",
       "given": "John"
      },
      {
       "family": "Agrawal",
       "given": "Ankit"
      },
      {
       "family": "Leonard",
       "given": "Andrew J."
      },
      {
       "family": "Robitaille",
       "given": "Thomas P."
      },
      {
       "family": "Mampaey",
       "given": "Benjamin"
      },
      {
       "family": "Campos-Rozo",
       "given": "Jose Iván"
      },
      {
       "family": "Kirk",
       "given": "Michael S."
      }
     ],
     "container-title": "arXiv:1505.02563 [astro-ph]",
     "id": "1226750/RZ7PH3U7",
     "issued": {
      "day": "11",
      "month": "5",
      "year": "2015"
     },
     "note": "arXiv: 1505.02563",
     "title": "SunPy - Python for Solar Physics",
     "type": "article-journal"
    },
    "1226750/UC3QBG7P": {
     "DOI": "10.1051/0004-6361/201219856",
     "URL": "http://www.aanda.org/10.1051/0004-6361/201219856",
     "accessed": {
      "day": "3",
      "month": "12",
      "year": "2015"
     },
     "author": [
      {
       "family": "White",
       "given": "R. S."
      },
      {
       "family": "Verwichte",
       "given": "E."
      },
      {
       "family": "Foullon",
       "given": "C."
      }
     ],
     "container-title": "Astronomy & Astrophysics",
     "id": "1226750/UC3QBG7P",
     "issued": {
      "month": "9",
      "year": "2012"
     },
     "page": "A129",
     "page-first": "A129",
     "title": "First observation of a transverse vertical oscillation during the formation of a hot post-flare loop",
     "type": "article-journal",
     "volume": "545"
    },
    "1226750/UCDDSIK9": {
     "DOI": "10.1086/593329",
     "URL": "http://stacks.iop.org/1538-4357/687/i=2/a=L131",
     "accessed": {
      "day": "7",
      "month": "8",
      "year": "2013"
     },
     "author": [
      {
       "family": "Bonet",
       "given": "J. A."
      },
      {
       "family": "Márquez",
       "given": "I."
      },
      {
       "family": "Sánchez Almeida",
       "given": "J."
      },
      {
       "family": "Cabello",
       "given": "I."
      },
      {
       "family": "Domingo",
       "given": "V."
      }
     ],
     "container-title": "The Astrophysical Journal",
     "id": "1226750/UCDDSIK9",
     "issue": "2",
     "issued": {
      "day": "10",
      "month": "11",
      "year": "2008"
     },
     "note": "bibtex: bonet2008",
     "page": "L131-L134",
     "page-first": "L131",
     "title": "Convectively Driven Vortex Flows in the Sun",
     "type": "article-journal",
     "volume": "687"
    },
    "1226750/UI5CPHBG": {
     "author": [
      {
       "family": "Schlüter",
       "given": "A."
      },
      {
       "family": "Temesváry",
       "given": "S."
      }
     ],
     "collection-title": "IAU Symposium",
     "container-title": "Electromagnetic Phenomena in Cosmical Physics",
     "editor": [
      {
       "family": "Lehnert",
       "given": "B."
      }
     ],
     "id": "1226750/UI5CPHBG",
     "issued": {
      "year": "1958"
     },
     "note": "bibtex[adsurl=http://adsabs.harvard.edu/abs/1958IAUS....6..263S;adsnote=Provided by the SAO/NASA Astrophysics Data System] \nbibtex: schluter1958",
     "page": "263",
     "page-first": "263",
     "title": "The Internal Constitution of Sunspots",
     "type": "paper-conference",
     "volume": "6"
    },
    "1226750/URFZKED9": {
     "DOI": "10.1088/0004-637X/799/1/6",
     "URL": "http://stacks.iop.org/0004-637X/799/i=1/a=6?key=crossref.ecbb9b6a63b487039314ca8a025f8506",
     "accessed": {
      "day": "1",
      "month": "2",
      "year": "2015"
     },
     "author": [
      {
       "family": "Mumford",
       "given": "S. J."
      },
      {
       "family": "Fedun",
       "given": "V."
      },
      {
       "family": "Erdélyi",
       "given": "R."
      }
     ],
     "container-title": "The Astrophysical Journal",
     "id": "1226750/URFZKED9",
     "issue": "1",
     "issued": {
      "day": "9",
      "month": "1",
      "year": "2015"
     },
     "note": "bibtex: mumford2015",
     "page": "6",
     "page-first": "6",
     "title": "Generation of Magnetohydrodynamic Waves in Low Solar Atmospheric Flux Tubes by Photospheric Motions",
     "type": "article-journal",
     "volume": "799"
    },
    "1226750/WMU7MD6V": {
     "DOI": "10.1051/0004-6361/200913380",
     "URL": "http://www.aanda.org/10.1051/0004-6361/200913380",
     "accessed": {
      "day": "7",
      "month": "8",
      "year": "2013"
     },
     "author": [
      {
       "family": "Wedemeyer-Böhm",
       "given": "S."
      },
      {
       "family": "Rouppe van der Voort",
       "given": "L."
      }
     ],
     "container-title": "Astronomy and Astrophysics",
     "id": "1226750/WMU7MD6V",
     "issue": "1",
     "issued": {
      "month": "11",
      "year": "2009"
     },
     "note": "bibtex: wedemeyer-bohm2009",
     "page": "L9-L12",
     "page-first": "L9",
     "title": "Small-scale swirl events in the quiet Sun chromosphere",
     "type": "article-journal",
     "volume": "507"
    },
    "1226750/WV6CB4P5": {
     "DOI": "10.1088/1742-6596/440/1/012005",
     "URL": "http://stacks.iop.org/1742-6596/440/i=1/a=012005?key=crossref.1b8024ffcfefda8e05c87662da418cc5",
     "accessed": {
      "day": "5",
      "month": "6",
      "year": "2014"
     },
     "author": [
      {
       "family": "Wedemeyer",
       "given": "Sven"
      },
      {
       "family": "Scullion",
       "given": "Eamon"
      },
      {
       "family": "Steiner",
       "given": "Oskar"
      },
      {
       "family": "Rodriguez",
       "given": "Jaime de la Cruz"
      },
      {
       "family": "Voort",
       "given": "Luc Rouppe van der"
      }
     ],
     "container-title": "Journal of Physics: Conference Series",
     "id": "1226750/WV6CB4P5",
     "issued": {
      "day": "11",
      "month": "6",
      "year": "2013"
     },
     "note": "bibtex: wedemeyer2013",
     "page": "012005",
     "page-first": "012005",
     "title": "Magnetic tornadoes and chromospheric swirls – Definition and classification",
     "type": "article-journal",
     "volume": "440"
    },
    "undefined": {
     "DOI": "10.1051/0004-6361:200809800",
     "URL": "http://www.aanda.org/10.1051/0004-6361:200809800",
     "accessed": {
      "day": "7",
      "month": "8",
      "year": "2013"
     },
     "author": [
      {
       "family": "Shelyag",
       "given": "S."
      },
      {
       "family": "Fedun",
       "given": "V."
      },
      {
       "family": "Erdélyi",
       "given": "R."
      }
     ],
     "container-title": "Astronomy and Astrophysics",
     "id": "undefined",
     "issue": "2",
     "issued": {
      "month": "8",
      "year": "2008"
     },
     "note": "bibtex: shelyag2008",
     "page": "655-662",
     "page-first": "655",
     "title": "Magnetohydrodynamic code for gravitationally-stratified media",
     "type": "article-journal",
     "volume": "486"
    }
   }
  },
  "kernelspec": {
   "display_name": "Python 3",
   "language": "python",
   "name": "python3"
  },
  "language_info": {
   "codemirror_mode": {
    "name": "ipython",
    "version": 3
   },
   "file_extension": ".py",
   "mimetype": "text/x-python",
   "name": "python",
   "nbconvert_exporter": "python",
   "pygments_lexer": "ipython3",
   "version": "3.5.1"
  }
 },
 "nbformat": 4,
 "nbformat_minor": 0
}
