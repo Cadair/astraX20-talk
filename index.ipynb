{
 "cells": [
  {
   "cell_type": "markdown",
   "metadata": {
    "slideshow": {
     "slide_type": "slide"
    }
   },
   "source": [
    "# SunPy: Python for Solar Physics\n",
    "\n",
    "## Stuart Mumford\n",
    "\n",
    "<a href=\"https://aperio.software\"><img style='float: left; width: 30%; margin-top: 100px; height: 25%;' src='images/aperio.svg'/></a><a href=\"https://sheffield.ac.uk\"><img style='float: right; width: 30%; margin-top: 100px; height: 25%;' src='images/TUOS_Logo_CMYK_Keyline.svg'/></a><a href=\"https://sunpy.org\"><img style='float: right; width: 30%; margin-top: 100px; height: 25%; margin-right: 5%;' src='images/sunpy.svg'/></a>\n"
   ]
  },
  {
   "cell_type": "markdown",
   "metadata": {
    "slideshow": {
     "slide_type": "slide"
    }
   },
   "source": [
    "# Me\n",
    "\n",
    "<div class='left'>\n",
    "\n",
    "<p>\n",
    "    I am the Lead Developer of SunPy. I work for the National Solar Observatory in the DKI Solar Telescope Data Centre.\n",
    "</p>\n",
    "<p>\n",
    "    Find me:\n",
    "    <ul>\n",
    "        <li> <a href=\"http://stuartmumford.uk\">stuartmumford.uk</a> </li>\n",
    "        <li> <a href=\"https://matrix.to/#/@cadair:cadair.com\">@cadair:cadair.com</a> on Matrix </li>\n",
    "        <li> <a href=\"https://github.com/Cadair\">@Cadair</a> on GitHub</li>\n",
    "        <li> <a href=\"https://twitter.com/stuartmumford\">@stuartmumford</a> on Twitter </li>\n",
    "</p>\n",
    "\n",
    "</div>\n",
    "\n",
    "<div class='right'>\n",
    "\n",
    "<img style='width: 500px;' src='images/cadair.jpg'/>\n",
    "\n",
    "\n",
    "</div>\n"
   ]
  },
  {
   "cell_type": "markdown",
   "metadata": {
    "slideshow": {
     "slide_type": "slide"
    }
   },
   "source": [
    "<img style=\"margin-top: -300px;\" src='images/fulldiskmulticolor.jpg'/>"
   ]
  },
  {
   "cell_type": "markdown",
   "metadata": {
    "slideshow": {
     "slide_type": "slide"
    }
   },
   "source": [
    "# Code!"
   ]
  },
  {
   "cell_type": "code",
   "execution_count": 5,
   "metadata": {
    "collapsed": true
   },
   "outputs": [],
   "source": [
    "# it's a notebook after all\n",
    "\n",
    "def my_awesome_function(awesomeness):\n",
    "    \"\"\"\n",
    "    You are awesome.\n",
    "    \"\"\"\n",
    "    print(\"Hello, you awesome person.\", awesomeness)"
   ]
  },
  {
   "cell_type": "code",
   "execution_count": 6,
   "metadata": {},
   "outputs": [
    {
     "name": "stdout",
     "output_type": "stream",
     "text": [
      "Hello, you awesome person. Awesome!\n"
     ]
    }
   ],
   "source": [
    "my_awesome_function(\"Awesome!\")"
   ]
  }
 ],
 "metadata": {
  "celltoolbar": "Slideshow",
  "kernelspec": {
   "display_name": "Environment (virtualenv_sunpy-release)",
   "language": "python",
   "name": "virtualenv_sunpy-release"
  },
  "language_info": {
   "codemirror_mode": {
    "name": "ipython",
    "version": 3
   },
   "file_extension": ".py",
   "mimetype": "text/x-python",
   "name": "python",
   "nbconvert_exporter": "python",
   "pygments_lexer": "ipython3",
   "version": "3.8.2"
  }
 },
 "nbformat": 4,
 "nbformat_minor": 1
}
