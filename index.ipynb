{
 "cells": [
  {
   "cell_type": "markdown",
   "metadata": {
    "slideshow": {
     "slide_type": "slide"
    }
   },
   "source": [
    "# This is a Slide!\n",
    "\n",
    "## With a sub heading.\n",
    "\n",
    "the `custom.css` file aligns h1 and h2 to the center, but not\n",
    "\n",
    "## h3"
   ]
  },
  {
   "cell_type": "markdown",
   "metadata": {},
   "source": [
    "Some stuff in the slide."
   ]
  },
  {
   "cell_type": "markdown",
   "metadata": {
    "slideshow": {
     "slide_type": "slide"
    }
   },
   "source": [
    "# Another slide, with columns!\n",
    "\n",
    "<div class='left'>\n",
    "\n",
    "This is on the right!\n",
    "\n",
    "</div>\n",
    "\n",
    "<div class='right'>\n",
    "\n",
    "This is on the left!\n",
    "\n",
    "</div>\n"
   ]
  },
  {
   "cell_type": "markdown",
   "metadata": {
    "slideshow": {
     "slide_type": "slide"
    }
   },
   "source": [
    "# Equations and Stuff!\n",
    "\n",
    "<p style=\"text-align: center;\"> This text is at the top.</p>\n",
    "\n",
    "<div class='left' style=\"border-right: solid\">\n",
    "\n",
    "These are some equations:\n",
    "\n",
    "$F \\approx 3 \\times 10^7$ ergs s<sup>-1</sup> cm <sup>-2</sup>,\n",
    "\n",
    "<br/>\n",
    "\n",
    "$F_{AR} \\approx 10^3 - 10^4$ ergs s<sup>-1</sup> cm <sup>-2</sup>,\n",
    "\n",
    "</div>\n",
    "\n",
    "<div class='right'>\n",
    "\n",
    "$\\rho_0 = 23.6 m_p N_e$\n",
    "\n",
    "<br/>\n",
    "\n",
    "LOOK Numbers!\n",
    "\n",
    "</div>\n",
    "\n",
    "<div style=\"clear: both;\"></div>\n",
    "\n",
    "\n",
    "## Markdown!\n",
    "\n",
    "\n",
    "Gone back to plain markdown now, you can't have markdown in html block elements (live div's).\n"
   ]
  },
  {
   "cell_type": "markdown",
   "metadata": {
    "slideshow": {
     "slide_type": "slide"
    }
   },
   "source": [
    "# Code!"
   ]
  },
  {
   "cell_type": "code",
   "execution_count": 5,
   "metadata": {
    "collapsed": true
   },
   "outputs": [],
   "source": [
    "# it's a notebook after all\n",
    "\n",
    "def my_awesome_function(awesomeness):\n",
    "    \"\"\"\n",
    "    You are awesome.\n",
    "    \"\"\"\n",
    "    print(\"Hello, you awesome person.\", awesomeness)"
   ]
  },
  {
   "cell_type": "code",
   "execution_count": 6,
   "metadata": {},
   "outputs": [
    {
     "name": "stdout",
     "output_type": "stream",
     "text": [
      "Hello, you awesome person. Awesome!\n"
     ]
    }
   ],
   "source": [
    "my_awesome_function(\"Awesome!\")"
   ]
  }
 ],
 "metadata": {
  "celltoolbar": "Slideshow",
  "kernelspec": {
   "display_name": "Python 3",
   "language": "python",
   "name": "python3"
  },
  "language_info": {
   "codemirror_mode": {
    "name": "ipython",
    "version": 3
   },
   "file_extension": ".py",
   "mimetype": "text/x-python",
   "name": "python",
   "nbconvert_exporter": "python",
   "pygments_lexer": "ipython3",
   "version": "3.6.1"
  }
 },
 "nbformat": 4,
 "nbformat_minor": 1
}
